{
 "cells": [
  {
   "cell_type": "code",
   "execution_count": 1,
   "id": "polish-relaxation",
   "metadata": {},
   "outputs": [],
   "source": [
    "from kaggle.api.kaggle_api_extended import KaggleApi\n",
    "api = KaggleApi()\n",
    "api.authenticate()"
   ]
  },
  {
   "cell_type": "code",
   "execution_count": 8,
   "id": "attended-battle",
   "metadata": {},
   "outputs": [],
   "source": [
    "api.competition_download_files('competitive-data-science-predict-future-sales')"
   ]
  },
  {
   "cell_type": "code",
   "execution_count": 12,
   "id": "reverse-xerox",
   "metadata": {},
   "outputs": [],
   "source": [
    "from zipfile import ZipFile\n",
    "zf = ZipFile('competitive-data-science-predict-future-sales.zip')\n",
    "zf.extractall('data/')\n",
    "zf.close()"
   ]
  },
  {
   "cell_type": "code",
   "execution_count": 2,
   "id": "twelve-fifty",
   "metadata": {},
   "outputs": [],
   "source": [
    "import pandas as pd\n",
    "import numpy as np\n",
    "import matplotlib.pyplot as plt\n",
    "import string\n",
    "import squarify\n",
    "import time\n",
    "\n",
    "\n",
    "# TIME SERIES\n",
    "from statsmodels.tsa.arima.model import ARIMA\n",
    "from statsmodels.tsa.statespace.sarimax import SARIMAX\n",
    "from pandas.plotting import autocorrelation_plot\n",
    "from statsmodels.tsa.stattools import adfuller, acf, pacf,arma_order_select_ic\n",
    "import statsmodels.formula.api as smf\n",
    "import statsmodels.tsa.api as smt\n",
    "import statsmodels.api as sm\n",
    "import scipy.stats as scs"
   ]
  },
  {
   "cell_type": "markdown",
   "id": "characteristic-regulation",
   "metadata": {},
   "source": [
    "## Import dataset"
   ]
  },
  {
   "cell_type": "code",
   "execution_count": 5,
   "id": "statewide-aircraft",
   "metadata": {},
   "outputs": [],
   "source": [
    "items_category=pd.read_csv(\"data/item_categories.csv\")\n",
    "items=pd.read_csv(\"data/items.csv\")\n",
    "sales=pd.read_csv(\"data/sales_train.csv\")\n",
    "shops=pd.read_csv(\"data/shops.csv\")\n",
    "test=pd.read_csv(\"data/test.csv\")"
   ]
  },
  {
   "cell_type": "markdown",
   "id": "certain-parent",
   "metadata": {},
   "source": [
    "## ARIMA for Time series analysis"
   ]
  },
  {
   "cell_type": "code",
   "execution_count": 86,
   "id": "starting-crawford",
   "metadata": {},
   "outputs": [],
   "source": [
    "# Stationarity tests\n",
    "def test_stationarity(timeseries):\n",
    "    \n",
    "    #Perform Dickey-Fuller test:\n",
    "    print('Results of Dickey-Fuller Test:')\n",
    "    dftest = adfuller(timeseries, autolag='AIC')\n",
    "    dfoutput = pd.Series(dftest[0:4], index=['Test Statistic','p-value','#Lags Used','Number of Observations Used'])\n",
    "    for key,value in dftest[4].items():\n",
    "        dfoutput['Critical Value (%s)'%key] = value\n",
    "    print (dfoutput)"
   ]
  },
  {
   "cell_type": "code",
   "execution_count": 87,
   "id": "driving-august",
   "metadata": {},
   "outputs": [],
   "source": [
    "# The sales_item_shop pair is too sparse, instead we use the monthly sale for the shop and predict based on the historical contribution\n",
    "# of each item\n",
    "sales_item_shop=sales.groupby([\"date_block_num\",\"shop_id\",\"item_id\"])"
   ]
  },
  {
   "cell_type": "code",
   "execution_count": 88,
   "id": "undefined-router",
   "metadata": {
    "scrolled": true
   },
   "outputs": [],
   "source": [
    "# get the monthly sale for shops\n",
    "dates=pd.date_range(start = '2013-01-01',end='2015-10-01', freq = 'MS')\n",
    "sales_shop=sales.groupby([\"date_block_num\",\"shop_id\"])[\"item_cnt_day\"].sum()\n",
    "# get the shops to the columns\n",
    "sales_shop=sales_shop.unstack(level=1)\n",
    "sales_shop=sales_shop.fillna(0)\n",
    "sales_shop.index=dates\n",
    "\n",
    "# Remove trend\n",
    "periods=1\n",
    "sales_shop_diff=sales_shop.diff(periods=periods)"
   ]
  },
  {
   "cell_type": "code",
   "execution_count": 93,
   "id": "classified-updating",
   "metadata": {},
   "outputs": [
    {
     "name": "stdout",
     "output_type": "stream",
     "text": [
      "Results of Dickey-Fuller Test:\n",
      "Test Statistic                -6.464195e+00\n",
      "p-value                        1.418603e-08\n",
      "#Lags Used                     0.000000e+00\n",
      "Number of Observations Used    3.200000e+01\n",
      "Critical Value (1%)           -3.653520e+00\n",
      "Critical Value (5%)           -2.957219e+00\n",
      "Critical Value (10%)          -2.617588e+00\n",
      "dtype: float64\n"
     ]
    },
    {
     "name": "stderr",
     "output_type": "stream",
     "text": [
      "/home/happy_lion/anaconda3/envs/CE9010_2021/lib/python3.6/site-packages/statsmodels/regression/linear_model.py:903: RuntimeWarning: divide by zero encountered in log\n",
      "  llf = -nobs2*np.log(2*np.pi) - nobs2*np.log(ssr / nobs) - nobs2\n"
     ]
    },
    {
     "data": {
      "image/png": "[encoded data removed]",
      "text/plain": [
       "<Figure size 432x288 with 1 Axes>"
      ]
     },
     "metadata": {
      "needs_background": "light"
     },
     "output_type": "display_data"
    }
   ],
   "source": [
    "plt.plot(sales_shop_diff.iloc[:,10])\n",
    "test_stationarity(sales_shop_diff.dropna().iloc[:,1])"
   ]
  },
  {
   "cell_type": "markdown",
   "id": "banner-breeding",
   "metadata": {},
   "source": [
    "### ARIMA forecast\n",
    "Consider that the item-shop combination forecasting is quite time consuming, also the data is noisy, we may forcast the sales by shop and assign the item sales using historical distribution"
   ]
  },
  {
   "cell_type": "code",
   "execution_count": 71,
   "id": "through-substitute",
   "metadata": {},
   "outputs": [],
   "source": [
    "## Experiment with the case for a single shop, shop_id 1\n",
    "\n",
    "def Arima_prediction(data):\n",
    "    start_time=time.time()\n",
    "    # Bottoms up\n",
    "    # Calculating the base forecasts using ARIMA\n",
    "    forecastsDict = {}\n",
    "    best_aic = np.inf \n",
    "    best_order = None\n",
    "    best_mdl = None\n",
    "\n",
    "    rng = range(7)\n",
    "    for i in rng:\n",
    "        for j in rng:\n",
    "            try:\n",
    "                model_fit = ARIMA(data, order=(i,j,0)).fit()\n",
    "                model_aic = tmp_mdl.aic\n",
    "                if model_aic < best_aic:\n",
    "                    best_aic = model_aic\n",
    "                    best_order = (i, j)\n",
    "                    best_mdl = moedl_fit\n",
    "            except: continue\n",
    "    output = model_fit.forecast()\n",
    "    prediction=output[0]\n",
    "#     print(output)\n",
    "#     print('aic: {:6.5f} | order: {}'.format(best_aic, best_order))\n",
    "#     print(\"time:\",time.time()-start_time)\n",
    "    return prediction"
   ]
  },
  {
   "cell_type": "code",
   "execution_count": 171,
   "id": "lyric-allah",
   "metadata": {
    "scrolled": true
   },
   "outputs": [
    {
     "name": "stdout",
     "output_type": "stream",
     "text": [
      "weight [[0.00068302]\n",
      " [0.        ]\n",
      " [0.00094573]\n",
      " ...\n",
      " [0.        ]\n",
      " [0.        ]\n",
      " [0.        ]]\n",
      "item_prediction -269.408278959329\n"
     ]
    }
   ],
   "source": [
    "# Predict each item using past weight of each item\n",
    "shop_lst=test[\"shop_id\"].unique()\n",
    "shop_lst.sort()\n",
    "shop_lst=[2]\n",
    "for shop in shop_lst:\n",
    "    item_lst=test[test[\"shop_id\"]==shop][\"item_id\"].unique()\n",
    "    item_weight=np.zeros([len(item_lst),1])\n",
    "    for i,item in enumerate(item_lst):\n",
    "        item_weight[i]=sales.loc[(sales[\"shop_id\"]==shop) & (sales[\"item_id\"]==item)][\"item_cnt_day\"].sum()\n",
    "    item_weight=item_weight/sum(item_weight)\n",
    "    \n",
    "\n",
    "# Predict the sales for shop with shop_id=2\n",
    "shop_sale=sales_shop_diff.iloc[:,2].dropna()\n",
    "prediction=Arima_prediction(shop_sale)\n",
    "prediction_item=prediction*item_weight\n",
    "print(\"weight\",item_weight)\n"
   ]
  },
  {
   "cell_type": "code",
   "execution_count": 172,
   "id": "aquatic-welcome",
   "metadata": {
    "scrolled": true
   },
   "outputs": [
    {
     "name": "stdout",
     "output_type": "stream",
     "text": [
      "item_prediction [[0.31254623]\n",
      " [0.        ]\n",
      " [0.43275632]\n",
      " ...\n",
      " [0.        ]\n",
      " [0.        ]\n",
      " [0.        ]]\n"
     ]
    }
   ],
   "source": [
    "prediction=sales_shop.iloc[-1,shop]+prediction\n",
    "prediction_item=prediction*item_weight\n",
    "print(\"item_prediction\",prediction_item)"
   ]
  },
  {
   "cell_type": "markdown",
   "id": "forward-disclosure",
   "metadata": {},
   "source": [
    "### Extend the work to general categories"
   ]
  },
  {
   "cell_type": "code",
   "execution_count": null,
   "id": "convinced-plane",
   "metadata": {},
   "outputs": [
    {
     "name": "stderr",
     "output_type": "stream",
     "text": [
      "/home/happy_lion/anaconda3/envs/CE9010_2021/lib/python3.6/site-packages/statsmodels/tsa/statespace/sarimax.py:966: UserWarning: Non-stationary starting autoregressive parameters found. Using zeros as starting parameters.\n",
      "  warn('Non-stationary starting autoregressive parameters'\n"
     ]
    },
    {
     "name": "stdout",
     "output_type": "stream",
     "text": [
      "shop 2 predicted sales is 3035.5718127245987\n",
      "shop 3 predicted sales is 587.7200309485502\n",
      "shop 4 predicted sales is 2506.2050075890747\n",
      "shop 5 predicted sales is 3856.751172781162\n",
      "shop 6 predicted sales is 3340.1363373733698\n",
      "shop 7 predicted sales is 3456.4029701657255\n",
      "shop 10 predicted sales is -280.45220639151\n"
     ]
    },
    {
     "name": "stderr",
     "output_type": "stream",
     "text": [
      "/home/happy_lion/anaconda3/envs/CE9010_2021/lib/python3.6/site-packages/statsmodels/tsa/statespace/sarimax.py:966: UserWarning: Non-stationary starting autoregressive parameters found. Using zeros as starting parameters.\n",
      "  warn('Non-stationary starting autoregressive parameters'\n"
     ]
    },
    {
     "name": "stdout",
     "output_type": "stream",
     "text": [
      "shop 12 predicted sales is -9271.23019609064\n"
     ]
    },
    {
     "name": "stderr",
     "output_type": "stream",
     "text": [
      "/home/happy_lion/anaconda3/envs/CE9010_2021/lib/python3.6/site-packages/statsmodels/base/model.py:568: ConvergenceWarning: Maximum Likelihood optimization failed to converge. Check mle_retvals\n",
      "  ConvergenceWarning)\n",
      "/home/happy_lion/anaconda3/envs/CE9010_2021/lib/python3.6/site-packages/statsmodels/base/model.py:568: ConvergenceWarning: Maximum Likelihood optimization failed to converge. Check mle_retvals\n",
      "  ConvergenceWarning)\n",
      "/home/happy_lion/anaconda3/envs/CE9010_2021/lib/python3.6/site-packages/statsmodels/base/model.py:568: ConvergenceWarning: Maximum Likelihood optimization failed to converge. Check mle_retvals\n",
      "  ConvergenceWarning)\n",
      "/home/happy_lion/anaconda3/envs/CE9010_2021/lib/python3.6/site-packages/statsmodels/base/model.py:568: ConvergenceWarning: Maximum Likelihood optimization failed to converge. Check mle_retvals\n",
      "  ConvergenceWarning)\n",
      "/home/happy_lion/anaconda3/envs/CE9010_2021/lib/python3.6/site-packages/statsmodels/base/model.py:568: ConvergenceWarning: Maximum Likelihood optimization failed to converge. Check mle_retvals\n",
      "  ConvergenceWarning)\n",
      "/home/happy_lion/anaconda3/envs/CE9010_2021/lib/python3.6/site-packages/statsmodels/base/model.py:568: ConvergenceWarning: Maximum Likelihood optimization failed to converge. Check mle_retvals\n",
      "  ConvergenceWarning)\n",
      "/home/happy_lion/anaconda3/envs/CE9010_2021/lib/python3.6/site-packages/statsmodels/base/model.py:568: ConvergenceWarning: Maximum Likelihood optimization failed to converge. Check mle_retvals\n",
      "  ConvergenceWarning)\n"
     ]
    },
    {
     "name": "stdout",
     "output_type": "stream",
     "text": [
      "shop 14 predicted sales is 529.8421834234164\n",
      "shop 15 predicted sales is 2542.8729913454417\n",
      "shop 16 predicted sales is 4103.846399105272\n"
     ]
    },
    {
     "name": "stderr",
     "output_type": "stream",
     "text": [
      "/home/happy_lion/anaconda3/envs/CE9010_2021/lib/python3.6/site-packages/statsmodels/base/model.py:568: ConvergenceWarning: Maximum Likelihood optimization failed to converge. Check mle_retvals\n",
      "  ConvergenceWarning)\n",
      "/home/happy_lion/anaconda3/envs/CE9010_2021/lib/python3.6/site-packages/statsmodels/base/model.py:568: ConvergenceWarning: Maximum Likelihood optimization failed to converge. Check mle_retvals\n",
      "  ConvergenceWarning)\n",
      "/home/happy_lion/anaconda3/envs/CE9010_2021/lib/python3.6/site-packages/statsmodels/base/model.py:568: ConvergenceWarning: Maximum Likelihood optimization failed to converge. Check mle_retvals\n",
      "  ConvergenceWarning)\n",
      "/home/happy_lion/anaconda3/envs/CE9010_2021/lib/python3.6/site-packages/statsmodels/base/model.py:568: ConvergenceWarning: Maximum Likelihood optimization failed to converge. Check mle_retvals\n",
      "  ConvergenceWarning)\n"
     ]
    },
    {
     "name": "stdout",
     "output_type": "stream",
     "text": [
      "shop 18 predicted sales is 1120.719124013986\n",
      "shop 19 predicted sales is 5424.560136283662\n",
      "shop 21 predicted sales is 5347.0938601068665\n",
      "shop 22 predicted sales is -683.9776580946177\n",
      "shop 24 predicted sales is 562.4455400857078\n",
      "shop 25 predicted sales is 18048.172676055812\n",
      "shop 26 predicted sales is -414.4668338712727\n",
      "shop 28 predicted sales is 8341.371378688782\n",
      "shop 31 predicted sales is 16204.90542610285\n"
     ]
    },
    {
     "name": "stderr",
     "output_type": "stream",
     "text": [
      "/home/happy_lion/anaconda3/envs/CE9010_2021/lib/python3.6/site-packages/statsmodels/tsa/statespace/sarimax.py:966: UserWarning: Non-stationary starting autoregressive parameters found. Using zeros as starting parameters.\n",
      "  warn('Non-stationary starting autoregressive parameters'\n",
      "/home/happy_lion/anaconda3/envs/CE9010_2021/lib/python3.6/site-packages/statsmodels/base/model.py:568: ConvergenceWarning: Maximum Likelihood optimization failed to converge. Check mle_retvals\n",
      "  ConvergenceWarning)\n"
     ]
    },
    {
     "name": "stdout",
     "output_type": "stream",
     "text": [
      "shop 34 predicted sales is 953.7088617084054\n",
      "shop 35 predicted sales is 5051.742832577753\n",
      "shop 36 predicted sales is 2309.9327481815885\n"
     ]
    }
   ],
   "source": [
    "shop_lst=test[\"shop_id\"].unique()\n",
    "shop_lst.sort()\n",
    "\n",
    "prediction_item=np.zeros(test.shape[0])\n",
    "start=0\n",
    "end=0\n",
    "\n",
    "for shop in shop_lst:\n",
    "\n",
    "    shop_sale=sales_shop_diff.iloc[:,shop].dropna()\n",
    "    prediction_diff=Arima_prediction(shop_sale)\n",
    "    prediction=sales_shop.iloc[-1,shop]+prediction_diff\n",
    "    print(\"shop\",shop,\"predicted sales is\",prediction)\n",
    "    item_lst=test[test[\"shop_id\"]==shop][\"item_id\"].unique()\n",
    "    item_weight=np.zeros([len(item_lst),1])\n",
    "    for i,item in enumerate(item_lst):\n",
    "        item_weight[i]=sales.loc[(sales[\"shop_id\"]==shop) & (sales[\"item_id\"]==item)][\"item_cnt_day\"].sum()\n",
    "    item_weight=item_weight/sum(item_weight)\n",
    "    end=end+len(item_lst)\n",
    "    prediction_item[start:end]=list(prediction*item_weight)\n",
    "    start=start+len(item_lst)\n",
    "\n",
    "prediction_item[:10]"
   ]
  },
  {
   "cell_type": "markdown",
   "id": "three-heading",
   "metadata": {},
   "source": [
    "### Change it to VARMA"
   ]
  }
 ],
 "metadata": {
  "kernelspec": {
   "display_name": "Python 3",
   "language": "python",
   "name": "python3"
  },
  "language_info": {
   "codemirror_mode": {
    "name": "ipython",
    "version": 3
   },
   "file_extension": ".py",
   "mimetype": "text/x-python",
   "name": "python",
   "nbconvert_exporter": "python",
   "pygments_lexer": "ipython3",
   "version": "3.6.12"
  }
 },
 "nbformat": 4,
 "nbformat_minor": 5
}
